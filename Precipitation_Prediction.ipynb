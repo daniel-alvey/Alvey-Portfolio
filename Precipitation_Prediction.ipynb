{
  "nbformat": 4,
  "nbformat_minor": 0,
  "metadata": {
    "colab": {
      "provenance": [],
      "toc_visible": true
    },
    "kernelspec": {
      "name": "python3",
      "display_name": "Python 3"
    },
    "language_info": {
      "name": "python"
    }
  },
  "cells": [
    {
      "cell_type": "markdown",
      "source": [
        "#Precipitation Prediciton\n",
        "\n",
        "In this project we call historical weather data from the Open-Meteo API. We examine weather data from January 2020 to August 25, 2023 from a location downtown Brewster, NY. We will process the data and build a neural network to predict if there will be precipitation at a given hour based on the following variables:\n",
        "\n",
        "-Temperature\n",
        "\n",
        "-Relative Humidity\n",
        "\n",
        "-Dewpoint\n",
        "\n",
        "-Surface Pressure\n",
        "\n",
        "-Windspeed\n",
        "\n",
        "-Wind Direction\n",
        "\n",
        "We develop a neural network to predict if a given hour will have precipitation or not. The neural network has a concerning false negative rate. However, with the addition of the cloudcover_low variable, our false positive rate decreases from 58.18% to 35.41% and our model's accuracy on test data jumps to 90.21% from 87.75%."
      ],
      "metadata": {
        "id": "XSaZuc67A_yy"
      }
    },
    {
      "cell_type": "code",
      "execution_count": 1,
      "metadata": {
        "id": "ikMqySJ18l5l"
      },
      "outputs": [],
      "source": [
        "#import relevate libraries\n",
        "import requests\n",
        "import pandas as pd\n",
        "import numpy as np\n",
        "from sklearn.model_selection import train_test_split\n",
        "from sklearn import preprocessing\n",
        "from tensorflow import keras\n",
        "from tensorflow.keras import layers\n",
        "import matplotlib.pyplot as plt\n",
        "import matplotlib.pyplot as plt\n",
        "import seaborn as sns"
      ]
    },
    {
      "cell_type": "markdown",
      "source": [
        "First we must call the data from the API. This URL was generated on the Open-Meteo website and will return the weather data for (41.3973,-73.6171), near downtown Brewster, from January 1, 2020 to August 25, 2023."
      ],
      "metadata": {
        "id": "ZZyQTsr1CYVB"
      }
    },
    {
      "cell_type": "code",
      "source": [
        "url='https://archive-api.open-meteo.com/v1/archive?latitude=41.3973&longitude=-73.6171&start_date=2020-01-01&end_date=2023-08-26&hourly=temperature_2m,relativehumidity_2m,dewpoint_2m,precipitation,surface_pressure,cloudcover_low,cloudcover_mid,cloudcover_high,windspeed_10m,winddirection_10m&temperature_unit=fahrenheit&windspeed_unit=mph&precipitation_unit=inch&timezone=America%2FNew_York'\n",
        "response = requests.get(url)\n",
        "response = response.json()"
      ],
      "metadata": {
        "id": "MWtzXLWpB0nz"
      },
      "execution_count": 2,
      "outputs": []
    },
    {
      "cell_type": "markdown",
      "source": [
        "We want the hourly data from this JSON so we put the 'hourly' labels into a dataframe and drop NaN rows."
      ],
      "metadata": {
        "id": "_zSqIqsdCx2U"
      }
    },
    {
      "cell_type": "code",
      "source": [
        "#%% put the relevant data in a dataframe\n",
        "df=pd.DataFrame.from_dict(response['hourly'])\n",
        "#%% drop NAN rows\n",
        "df=df.dropna()\n",
        "df['time']=pd.to_datetime(df['time'])"
      ],
      "metadata": {
        "id": "M_3Tu4DgCwdN"
      },
      "execution_count": 3,
      "outputs": []
    },
    {
      "cell_type": "markdown",
      "source": [
        "The column 'precipitation' currently is a float with a minimum of 0.0 and maximum of 0.768. We want to create a new dataframe called 'precip_labels' which will have a 0 if there is a 0 in the precipitation column and a 1 otherwise."
      ],
      "metadata": {
        "id": "SYpSGIGqDAZG"
      }
    },
    {
      "cell_type": "code",
      "source": [
        "df['precipitation'].describe()"
      ],
      "metadata": {
        "colab": {
          "base_uri": "https://localhost:8080/"
        },
        "id": "rRfc4xPgC-WK",
        "outputId": "1ff695ce-82f4-4fe6-96ab-60f052fdcb48"
      },
      "execution_count": 4,
      "outputs": [
        {
          "output_type": "execute_result",
          "data": {
            "text/plain": [
              "count    31988.000000\n",
              "mean         0.005746\n",
              "std          0.022715\n",
              "min          0.000000\n",
              "25%          0.000000\n",
              "50%          0.000000\n",
              "75%          0.000000\n",
              "max          0.768000\n",
              "Name: precipitation, dtype: float64"
            ]
          },
          "metadata": {},
          "execution_count": 4
        }
      ]
    },
    {
      "cell_type": "code",
      "source": [
        "def determine_precip(cell):\n",
        "    if cell==0:\n",
        "        return 0\n",
        "    else:\n",
        "        return 1"
      ],
      "metadata": {
        "id": "hnpaCF8rDJZi"
      },
      "execution_count": 5,
      "outputs": []
    },
    {
      "cell_type": "markdown",
      "source": [
        "We also drop the columns 'precipitation', 'time', 'cloudcover_low', 'cloudcover_mid', and  'cloudcover_high' from precip. The model cannot intake date time data, and I chose not to use time of day or month as a variable. Furthermore, I chose not to use any of the cloud cover variables in the model because I was concerned that it was making the model too accurate and realistically, I wanted the type of a model you could feed data from a simple weather station.\n",
        "\n"
      ],
      "metadata": {
        "id": "J4jmwi5JDmWC"
      }
    },
    {
      "cell_type": "code",
      "source": [
        "precip_labels=df['precipitation'].apply(determine_precip)\n",
        "precip=df.drop(columns=['precipitation','time','cloudcover_low', 'cloudcover_mid','cloudcover_high'])"
      ],
      "metadata": {
        "id": "DdTm1YvRDjcY"
      },
      "execution_count": 6,
      "outputs": []
    },
    {
      "cell_type": "markdown",
      "source": [
        "Next we normalize the data and perform a train test split"
      ],
      "metadata": {
        "id": "2Vh5BiH6EY3W"
      }
    },
    {
      "cell_type": "code",
      "source": [
        "transform = preprocessing.StandardScaler()\n",
        "X=transform.fit_transform(precip)"
      ],
      "metadata": {
        "id": "BLBjf4RGDkOn"
      },
      "execution_count": 19,
      "outputs": []
    },
    {
      "cell_type": "code",
      "source": [
        "precip_train, precip_test, labels_train, labels_test=train_test_split(\n",
        "    X, precip_labels, test_size=0.2, random_state=42)\n"
      ],
      "metadata": {
        "id": "leQGU7aBEYJf"
      },
      "execution_count": 20,
      "outputs": []
    },
    {
      "cell_type": "markdown",
      "source": [
        "#Model Construction\n",
        "Next we construct the model. For the model arcitecture I used a simple stack of two relu dense layers with 16 channels followed by a sigmoid layer. Since we are doing binary classification the final layer has one channel. This is following the arcitecture used in *Deep Learning with Python* when performing binary classification on whether an IBDM review is positive or negative."
      ],
      "metadata": {
        "id": "fuYOlk07EhE0"
      }
    },
    {
      "cell_type": "code",
      "source": [
        "model = keras.Sequential([\n",
        "layers.Dense(16, activation=\"relu\"),\n",
        "layers.Dense(16, activation=\"relu\"),\n",
        "layers.Dense(1, activation=\"sigmoid\")\n",
        "])\n",
        "model.compile(optimizer=\"rmsprop\",\n",
        "loss=\"binary_crossentropy\",\n",
        "metrics=[\"accuracy\"])"
      ],
      "metadata": {
        "id": "T5K4NQ6VEezo"
      },
      "execution_count": 43,
      "outputs": []
    },
    {
      "cell_type": "markdown",
      "source": [
        "We create validating data so we can plot training and validation accuracy and loss over epochs to determine if overfitting is occuring. Then we train the model."
      ],
      "metadata": {
        "id": "9nL4N4zDFgFq"
      }
    },
    {
      "cell_type": "code",
      "source": [
        "partial_x_train,x_val, partial_y_train, y_val, =train_test_split(precip_train, labels_train, test_size=.4, random_state=42)"
      ],
      "metadata": {
        "id": "BnoXKaLXFxj5"
      },
      "execution_count": 44,
      "outputs": []
    },
    {
      "cell_type": "code",
      "source": [
        "history = model.fit(partial_x_train,\n",
        "partial_y_train,\n",
        "epochs=30,\n",
        "batch_size=128,\n",
        "validation_data=(x_val, y_val))\n"
      ],
      "metadata": {
        "colab": {
          "base_uri": "https://localhost:8080/"
        },
        "id": "cax7lV0nFeWB",
        "outputId": "dc704040-d604-47f0-def4-ec22ef32b52c"
      },
      "execution_count": 45,
      "outputs": [
        {
          "output_type": "stream",
          "name": "stdout",
          "text": [
            "Epoch 1/30\n",
            "120/120 [==============================] - 1s 4ms/step - loss: 0.3954 - accuracy: 0.8376 - val_loss: 0.3473 - val_accuracy: 0.8579\n",
            "Epoch 2/30\n",
            "120/120 [==============================] - 0s 3ms/step - loss: 0.3367 - accuracy: 0.8606 - val_loss: 0.3312 - val_accuracy: 0.8669\n",
            "Epoch 3/30\n",
            "120/120 [==============================] - 0s 3ms/step - loss: 0.3273 - accuracy: 0.8673 - val_loss: 0.3256 - val_accuracy: 0.8701\n",
            "Epoch 4/30\n",
            "120/120 [==============================] - 0s 3ms/step - loss: 0.3229 - accuracy: 0.8685 - val_loss: 0.3214 - val_accuracy: 0.8704\n",
            "Epoch 5/30\n",
            "120/120 [==============================] - 0s 3ms/step - loss: 0.3192 - accuracy: 0.8692 - val_loss: 0.3190 - val_accuracy: 0.8726\n",
            "Epoch 6/30\n",
            "120/120 [==============================] - 0s 2ms/step - loss: 0.3166 - accuracy: 0.8718 - val_loss: 0.3166 - val_accuracy: 0.8728\n",
            "Epoch 7/30\n",
            "120/120 [==============================] - 0s 3ms/step - loss: 0.3144 - accuracy: 0.8727 - val_loss: 0.3150 - val_accuracy: 0.8724\n",
            "Epoch 8/30\n",
            "120/120 [==============================] - 0s 3ms/step - loss: 0.3127 - accuracy: 0.8718 - val_loss: 0.3134 - val_accuracy: 0.8735\n",
            "Epoch 9/30\n",
            "120/120 [==============================] - 0s 3ms/step - loss: 0.3113 - accuracy: 0.8723 - val_loss: 0.3120 - val_accuracy: 0.8751\n",
            "Epoch 10/30\n",
            "120/120 [==============================] - 0s 3ms/step - loss: 0.3097 - accuracy: 0.8746 - val_loss: 0.3105 - val_accuracy: 0.8750\n",
            "Epoch 11/30\n",
            "120/120 [==============================] - 0s 3ms/step - loss: 0.3083 - accuracy: 0.8731 - val_loss: 0.3096 - val_accuracy: 0.8760\n",
            "Epoch 12/30\n",
            "120/120 [==============================] - 0s 3ms/step - loss: 0.3071 - accuracy: 0.8735 - val_loss: 0.3079 - val_accuracy: 0.8766\n",
            "Epoch 13/30\n",
            "120/120 [==============================] - 0s 3ms/step - loss: 0.3059 - accuracy: 0.8749 - val_loss: 0.3074 - val_accuracy: 0.8758\n",
            "Epoch 14/30\n",
            "120/120 [==============================] - 0s 3ms/step - loss: 0.3046 - accuracy: 0.8761 - val_loss: 0.3057 - val_accuracy: 0.8773\n",
            "Epoch 15/30\n",
            "120/120 [==============================] - 0s 3ms/step - loss: 0.3034 - accuracy: 0.8761 - val_loss: 0.3051 - val_accuracy: 0.8772\n",
            "Epoch 16/30\n",
            "120/120 [==============================] - 0s 3ms/step - loss: 0.3023 - accuracy: 0.8765 - val_loss: 0.3040 - val_accuracy: 0.8776\n",
            "Epoch 17/30\n",
            "120/120 [==============================] - 0s 3ms/step - loss: 0.3011 - accuracy: 0.8767 - val_loss: 0.3032 - val_accuracy: 0.8780\n",
            "Epoch 18/30\n",
            "120/120 [==============================] - 0s 3ms/step - loss: 0.3004 - accuracy: 0.8778 - val_loss: 0.3022 - val_accuracy: 0.8784\n",
            "Epoch 19/30\n",
            "120/120 [==============================] - 0s 3ms/step - loss: 0.2999 - accuracy: 0.8778 - val_loss: 0.3016 - val_accuracy: 0.8793\n",
            "Epoch 20/30\n",
            "120/120 [==============================] - 0s 3ms/step - loss: 0.2989 - accuracy: 0.8779 - val_loss: 0.3015 - val_accuracy: 0.8792\n",
            "Epoch 21/30\n",
            "120/120 [==============================] - 0s 3ms/step - loss: 0.2984 - accuracy: 0.8789 - val_loss: 0.3010 - val_accuracy: 0.8789\n",
            "Epoch 22/30\n",
            "120/120 [==============================] - 0s 3ms/step - loss: 0.2979 - accuracy: 0.8790 - val_loss: 0.3020 - val_accuracy: 0.8802\n",
            "Epoch 23/30\n",
            "120/120 [==============================] - 0s 3ms/step - loss: 0.2977 - accuracy: 0.8787 - val_loss: 0.3000 - val_accuracy: 0.8811\n",
            "Epoch 24/30\n",
            "120/120 [==============================] - 0s 3ms/step - loss: 0.2969 - accuracy: 0.8796 - val_loss: 0.2997 - val_accuracy: 0.8801\n",
            "Epoch 25/30\n",
            "120/120 [==============================] - 0s 3ms/step - loss: 0.2966 - accuracy: 0.8793 - val_loss: 0.2995 - val_accuracy: 0.8790\n",
            "Epoch 26/30\n",
            "120/120 [==============================] - 0s 3ms/step - loss: 0.2959 - accuracy: 0.8801 - val_loss: 0.2990 - val_accuracy: 0.8799\n",
            "Epoch 27/30\n",
            "120/120 [==============================] - 0s 3ms/step - loss: 0.2953 - accuracy: 0.8804 - val_loss: 0.3005 - val_accuracy: 0.8811\n",
            "Epoch 28/30\n",
            "120/120 [==============================] - 0s 4ms/step - loss: 0.2948 - accuracy: 0.8807 - val_loss: 0.2991 - val_accuracy: 0.8819\n",
            "Epoch 29/30\n",
            "120/120 [==============================] - 0s 4ms/step - loss: 0.2947 - accuracy: 0.8803 - val_loss: 0.2989 - val_accuracy: 0.8793\n",
            "Epoch 30/30\n",
            "120/120 [==============================] - 0s 4ms/step - loss: 0.2942 - accuracy: 0.8807 - val_loss: 0.2983 - val_accuracy: 0.8825\n"
          ]
        }
      ]
    },
    {
      "cell_type": "markdown",
      "source": [
        "Now we plot Training and Validation loss and accuracy"
      ],
      "metadata": {
        "id": "ndvwsb4tF5rT"
      }
    },
    {
      "cell_type": "code",
      "source": [
        "history_dict = history.history\n",
        "loss_values = history_dict[\"loss\"]\n",
        "val_loss_values = history_dict[\"val_loss\"]\n",
        "epochs = range(1, len(loss_values) + 1)\n",
        "plt.plot(epochs, loss_values, \"bo\", label=\"Training loss\")\n",
        "plt.plot(epochs, val_loss_values, \"b\", label=\"Validation loss\")\n",
        "plt.title(\"Training and validation loss\")\n",
        "plt.xlabel(\"Epochs\")\n",
        "plt.ylabel(\"Loss\")\n",
        "plt.legend()\n",
        "plt.show()"
      ],
      "metadata": {
        "colab": {
          "base_uri": "https://localhost:8080/",
          "height": 472
        },
        "id": "PKta0aYMFu7G",
        "outputId": "afb3cd34-7b4f-44c4-9844-ee14816f4437"
      },
      "execution_count": 46,
      "outputs": [
        {
          "output_type": "display_data",
          "data": {
            "text/plain": [
              "<Figure size 640x480 with 1 Axes>"
            ],
            "image/png": "[encoded data removed]"
          },
          "metadata": {}
        }
      ]
    },
    {
      "cell_type": "code",
      "source": [
        "plt.clf()\n",
        "acc = history_dict[\"accuracy\"]\n",
        "val_acc = history_dict[\"val_accuracy\"]\n",
        "plt.plot(epochs, acc, \"bo\", label=\"Training acc\")\n",
        "plt.plot(epochs, val_acc, \"b\", label=\"Validation acc\")\n",
        "plt.title(\"Training and validation accuracy\")\n",
        "plt.xlabel(\"Epochs\")\n",
        "plt.ylabel(\"Accuracy\")\n",
        "plt.legend()\n",
        "plt.show()\n"
      ],
      "metadata": {
        "colab": {
          "base_uri": "https://localhost:8080/",
          "height": 472
        },
        "id": "a55MHOlXF9Zm",
        "outputId": "10fe2602-c9b5-48b7-9583-fe06142121d0"
      },
      "execution_count": 47,
      "outputs": [
        {
          "output_type": "display_data",
          "data": {
            "text/plain": [
              "<Figure size 640x480 with 1 Axes>"
            ],
            "image/png": "[encoded data removed]"
          },
          "metadata": {}
        }
      ]
    },
    {
      "cell_type": "markdown",
      "source": [
        "Thought the training and validating accuracies are both continuing to rise, there is a slight bifurcation of the training and validation loss around the fifteenth epoch.  As such, we now train the model on the full training data for fifteen epochs."
      ],
      "metadata": {
        "id": "1GA7zpGkGJkK"
      }
    },
    {
      "cell_type": "code",
      "source": [
        "model = keras.Sequential([\n",
        "layers.Dense(16, activation=\"relu\"),\n",
        "layers.Dense(16, activation=\"relu\"),\n",
        "layers.Dense(1, activation=\"sigmoid\")\n",
        "])\n",
        "model.compile(optimizer=\"rmsprop\",\n",
        "loss=\"binary_crossentropy\",\n",
        "metrics=[\"accuracy\"])"
      ],
      "metadata": {
        "id": "1nf1MG72HaBL"
      },
      "execution_count": 48,
      "outputs": []
    },
    {
      "cell_type": "code",
      "source": [
        "model.fit(precip_train, labels_train, epochs=15, batch_size=128)"
      ],
      "metadata": {
        "colab": {
          "base_uri": "https://localhost:8080/"
        },
        "id": "MOPAmZX6GA9e",
        "outputId": "43c643e9-55e6-4525-8a15-d38d6b23ca85"
      },
      "execution_count": 49,
      "outputs": [
        {
          "output_type": "stream",
          "name": "stdout",
          "text": [
            "Epoch 1/15\n",
            "200/200 [==============================] - 2s 4ms/step - loss: 0.3759 - accuracy: 0.8335\n",
            "Epoch 2/15\n",
            "200/200 [==============================] - 1s 5ms/step - loss: 0.3355 - accuracy: 0.8552\n",
            "Epoch 3/15\n",
            "200/200 [==============================] - 1s 7ms/step - loss: 0.3221 - accuracy: 0.8683\n",
            "Epoch 4/15\n",
            "200/200 [==============================] - 0s 2ms/step - loss: 0.3146 - accuracy: 0.8698\n",
            "Epoch 5/15\n",
            "200/200 [==============================] - 0s 2ms/step - loss: 0.3101 - accuracy: 0.8713\n",
            "Epoch 6/15\n",
            "200/200 [==============================] - 0s 2ms/step - loss: 0.3070 - accuracy: 0.8733\n",
            "Epoch 7/15\n",
            "200/200 [==============================] - 0s 2ms/step - loss: 0.3046 - accuracy: 0.8742\n",
            "Epoch 8/15\n",
            "200/200 [==============================] - 0s 2ms/step - loss: 0.3030 - accuracy: 0.8755\n",
            "Epoch 9/15\n",
            "200/200 [==============================] - 0s 2ms/step - loss: 0.3009 - accuracy: 0.8751\n",
            "Epoch 10/15\n",
            "200/200 [==============================] - 0s 2ms/step - loss: 0.2996 - accuracy: 0.8771\n",
            "Epoch 11/15\n",
            "200/200 [==============================] - 0s 2ms/step - loss: 0.2983 - accuracy: 0.8775\n",
            "Epoch 12/15\n",
            "200/200 [==============================] - 0s 2ms/step - loss: 0.2971 - accuracy: 0.8777\n",
            "Epoch 13/15\n",
            "200/200 [==============================] - 0s 2ms/step - loss: 0.2963 - accuracy: 0.8787\n",
            "Epoch 14/15\n",
            "200/200 [==============================] - 0s 2ms/step - loss: 0.2951 - accuracy: 0.8798\n",
            "Epoch 15/15\n",
            "200/200 [==============================] - 0s 2ms/step - loss: 0.2944 - accuracy: 0.8806\n"
          ]
        },
        {
          "output_type": "execute_result",
          "data": {
            "text/plain": [
              "<keras.callbacks.History at 0x7deac85e73a0>"
            ]
          },
          "metadata": {},
          "execution_count": 49
        }
      ]
    },
    {
      "cell_type": "markdown",
      "source": [
        "We now determine test accuracy against this model. We find a test accuracy of 87.77%, which is very close to the training accuracy of 88.06% which indicates a model which is pretty robust when confronted with new data."
      ],
      "metadata": {
        "id": "jKgAfqCyHhYF"
      }
    },
    {
      "cell_type": "code",
      "source": [
        "test_lose, test_acc=model.evaluate(precip_test,labels_test)\n",
        "print(f\"test_acc:{test_acc}\")"
      ],
      "metadata": {
        "colab": {
          "base_uri": "https://localhost:8080/"
        },
        "id": "kkpGTgq-GmgN",
        "outputId": "1e10185e-ac61-44a6-cd0c-582a8b39e5db"
      },
      "execution_count": 50,
      "outputs": [
        {
          "output_type": "stream",
          "name": "stdout",
          "text": [
            "200/200 [==============================] - 1s 2ms/step - loss: 0.2936 - accuracy: 0.8775\n",
            "test_acc:0.8774617314338684\n"
          ]
        }
      ]
    },
    {
      "cell_type": "markdown",
      "source": [
        "Here we have the model make predictions for the precipitation probablities for the test data. We make a binary array pred_labels which returns a 0 if the probability of precipitation is less than 50% and 1 otherwise"
      ],
      "metadata": {
        "id": "hggldPJHIHXN"
      }
    },
    {
      "cell_type": "code",
      "source": [
        "def prob_prec(cell):\n",
        "    if cell<.5:\n",
        "        return 0\n",
        "    else:\n",
        "        return 1"
      ],
      "metadata": {
        "id": "raMhHZVOHgDE"
      },
      "execution_count": 51,
      "outputs": []
    },
    {
      "cell_type": "code",
      "source": [
        "predictions= model.predict(precip_test)\n",
        "pred_labels=np.vectorize(prob_prec)(predictions)"
      ],
      "metadata": {
        "colab": {
          "base_uri": "https://localhost:8080/"
        },
        "id": "c6wHVfZOHyRm",
        "outputId": "56e72429-20cf-43b7-e452-5edec3f16beb"
      },
      "execution_count": 52,
      "outputs": [
        {
          "output_type": "stream",
          "name": "stdout",
          "text": [
            "200/200 [==============================] - 0s 1ms/step\n"
          ]
        }
      ]
    },
    {
      "cell_type": "code",
      "source": [
        "def plot_confusion_matrix(y,y_predict):\n",
        "    \"this function plots the confusion matrix\"\n",
        "    from sklearn.metrics import confusion_matrix\n",
        "\n",
        "    cm = confusion_matrix(y, y_predict)\n",
        "    ax= plt.subplot()\n",
        "    sns.heatmap(cm, annot=True,fmt='d', ax = ax); #annot=True to annotate cells\n",
        "    ax.set_xlabel('Predicted labels')\n",
        "    ax.set_ylabel('True labels')\n",
        "    ax.set_title('Confusion Matrix');\n",
        "    ax.xaxis.set_ticklabels(['No precipitation', 'precipitation']); ax.yaxis.set_ticklabels(['No precipitation', 'precipitation'])\n",
        "    plt.show()\n"
      ],
      "metadata": {
        "id": "-ax9xt5sH-2G"
      },
      "execution_count": 53,
      "outputs": []
    },
    {
      "cell_type": "code",
      "source": [
        "plot_confusion_matrix(labels_test,pred_labels)"
      ],
      "metadata": {
        "colab": {
          "base_uri": "https://localhost:8080/",
          "height": 472
        },
        "id": "RHw2RWFqH5Zj",
        "outputId": "4f09be28-06c0-4d44-852f-e773bf177664"
      },
      "execution_count": 54,
      "outputs": [
        {
          "output_type": "display_data",
          "data": {
            "text/plain": [
              "<Figure size 640x480 with 2 Axes>"
            ],
            "image/png": "[encoded data removed]"
          },
          "metadata": {}
        }
      ]
    },
    {
      "cell_type": "markdown",
      "source": [
        "From the confusion matrix we can see that the model accuracy is largely an artifact of having many more hours with no precipitation than with. The model is 96.7% accurate at identifying no precipitation hours but only 41.82% accurate at identifying precipitation hours. This large false negative rate is a bit of a concern.\n",
        "\n",
        "Let's examine the model if we allow it to consider the cloud cover data as well.We'll only allow the cloudcover_low column as this is a believable observation a human could make."
      ],
      "metadata": {
        "id": "YAkiv0bVLoCm"
      }
    },
    {
      "cell_type": "code",
      "source": [
        "precip1=df.drop(columns=['precipitation','time','cloudcover_low'])"
      ],
      "metadata": {
        "id": "AptFFDj1KHTY"
      },
      "execution_count": 55,
      "outputs": []
    },
    {
      "cell_type": "markdown",
      "source": [
        "we again normalize the data and perform a train test split"
      ],
      "metadata": {
        "id": "jCytW_Lg--Uv"
      }
    },
    {
      "cell_type": "code",
      "source": [
        "transform = preprocessing.StandardScaler()\n",
        "X=transform.fit_transform(precip1)\n",
        "precip_train, precip_test, labels_train, labels_test=train_test_split(\n",
        "    X, precip_labels, test_size=0.2, random_state=42)"
      ],
      "metadata": {
        "id": "s271v3N6-4tw"
      },
      "execution_count": 56,
      "outputs": []
    },
    {
      "cell_type": "markdown",
      "source": [
        "We will use the same model and end at 10 epochs as we did initially."
      ],
      "metadata": {
        "id": "IlzxjCHS_OPI"
      }
    },
    {
      "cell_type": "code",
      "source": [
        "model = keras.Sequential([\n",
        "layers.Dense(16, activation=\"relu\"),\n",
        "layers.Dense(16, activation=\"relu\"),\n",
        "layers.Dense(1, activation=\"sigmoid\")\n",
        "])\n",
        "model.compile(optimizer=\"rmsprop\",\n",
        "loss=\"binary_crossentropy\",\n",
        "metrics=[\"accuracy\"])"
      ],
      "metadata": {
        "id": "wFMM1FPj-7gC"
      },
      "execution_count": 57,
      "outputs": []
    },
    {
      "cell_type": "code",
      "source": [
        "model.fit(precip_train, labels_train, epochs=15, batch_size=128)"
      ],
      "metadata": {
        "colab": {
          "base_uri": "https://localhost:8080/"
        },
        "id": "Qzv6Tv8y_Taf",
        "outputId": "dc31fc98-3cea-4a9c-9c1a-5873d7302d8d"
      },
      "execution_count": 58,
      "outputs": [
        {
          "output_type": "stream",
          "name": "stdout",
          "text": [
            "Epoch 1/15\n",
            "200/200 [==============================] - 2s 3ms/step - loss: 0.3238 - accuracy: 0.8721\n",
            "Epoch 2/15\n",
            "200/200 [==============================] - 0s 2ms/step - loss: 0.2445 - accuracy: 0.8943\n",
            "Epoch 3/15\n",
            "200/200 [==============================] - 0s 2ms/step - loss: 0.2371 - accuracy: 0.8969\n",
            "Epoch 4/15\n",
            "200/200 [==============================] - 0s 2ms/step - loss: 0.2332 - accuracy: 0.8981\n",
            "Epoch 5/15\n",
            "200/200 [==============================] - 0s 2ms/step - loss: 0.2304 - accuracy: 0.8996\n",
            "Epoch 6/15\n",
            "200/200 [==============================] - 0s 2ms/step - loss: 0.2286 - accuracy: 0.9000\n",
            "Epoch 7/15\n",
            "200/200 [==============================] - 0s 2ms/step - loss: 0.2270 - accuracy: 0.9007\n",
            "Epoch 8/15\n",
            "200/200 [==============================] - 0s 2ms/step - loss: 0.2259 - accuracy: 0.9009\n",
            "Epoch 9/15\n",
            "200/200 [==============================] - 0s 2ms/step - loss: 0.2250 - accuracy: 0.9017\n",
            "Epoch 10/15\n",
            "200/200 [==============================] - 0s 2ms/step - loss: 0.2243 - accuracy: 0.9021\n",
            "Epoch 11/15\n",
            "200/200 [==============================] - 0s 2ms/step - loss: 0.2235 - accuracy: 0.9023\n",
            "Epoch 12/15\n",
            "200/200 [==============================] - 0s 2ms/step - loss: 0.2232 - accuracy: 0.9026\n",
            "Epoch 13/15\n",
            "200/200 [==============================] - 0s 2ms/step - loss: 0.2227 - accuracy: 0.9039\n",
            "Epoch 14/15\n",
            "200/200 [==============================] - 0s 2ms/step - loss: 0.2221 - accuracy: 0.9037\n",
            "Epoch 15/15\n",
            "200/200 [==============================] - 0s 2ms/step - loss: 0.2220 - accuracy: 0.9038\n"
          ]
        },
        {
          "output_type": "execute_result",
          "data": {
            "text/plain": [
              "<keras.callbacks.History at 0x7dead83277c0>"
            ]
          },
          "metadata": {},
          "execution_count": 58
        }
      ]
    },
    {
      "cell_type": "code",
      "source": [
        "test_lose, test_acc=model.evaluate(precip_test,labels_test)\n",
        "print(f\"test_acc:{test_acc}\")\n"
      ],
      "metadata": {
        "colab": {
          "base_uri": "https://localhost:8080/"
        },
        "id": "3Xghe2F9_bVq",
        "outputId": "9fb81d3e-f0a5-4272-aa42-eb1fb075e3d1"
      },
      "execution_count": 59,
      "outputs": [
        {
          "output_type": "stream",
          "name": "stdout",
          "text": [
            "200/200 [==============================] - 0s 1ms/step - loss: 0.2188 - accuracy: 0.9022\n",
            "test_acc:0.9021569490432739\n"
          ]
        }
      ]
    },
    {
      "cell_type": "markdown",
      "source": [
        "With this additional variable we see a 90.38% training accuracy and a 90.21% test accuracy"
      ],
      "metadata": {
        "id": "ZtQEhlwg_gA2"
      }
    },
    {
      "cell_type": "code",
      "source": [
        "def prob_prec(cell):\n",
        "    if cell<.5:\n",
        "        return 0\n",
        "    else:\n",
        "        return 1"
      ],
      "metadata": {
        "id": "L2shmHXH_fGo"
      },
      "execution_count": 60,
      "outputs": []
    },
    {
      "cell_type": "code",
      "source": [
        "predictions= model.predict(precip_test)\n",
        "pred_labels=np.vectorize(prob_prec)(predictions)"
      ],
      "metadata": {
        "colab": {
          "base_uri": "https://localhost:8080/"
        },
        "id": "RyL4eeVSAEhd",
        "outputId": "2672451d-463b-41b9-bbf3-561d623e4aa0"
      },
      "execution_count": 61,
      "outputs": [
        {
          "output_type": "stream",
          "name": "stdout",
          "text": [
            "200/200 [==============================] - 0s 1ms/step\n"
          ]
        }
      ]
    },
    {
      "cell_type": "code",
      "source": [
        "def plot_confusion_matrix(y,y_predict):\n",
        "    \"this function plots the confusion matrix\"\n",
        "    from sklearn.metrics import confusion_matrix\n",
        "\n",
        "    cm = confusion_matrix(y, y_predict)\n",
        "    ax= plt.subplot()\n",
        "    sns.heatmap(cm, annot=True,fmt='d', ax = ax); #annot=True to annotate cells\n",
        "    ax.set_xlabel('Predicted labels')\n",
        "    ax.set_ylabel('True labels')\n",
        "    ax.set_title('Confusion Matrix');\n",
        "    ax.xaxis.set_ticklabels(['No precipitation', 'precipitation']); ax.yaxis.set_ticklabels(['No precipitation', 'precipitation'])\n",
        "    plt.show()\n",
        ""
      ],
      "metadata": {
        "id": "BrrCZR9g_-ca"
      },
      "execution_count": 62,
      "outputs": []
    },
    {
      "cell_type": "code",
      "source": [
        "plot_confusion_matrix(labels_test,pred_labels)"
      ],
      "metadata": {
        "colab": {
          "base_uri": "https://localhost:8080/",
          "height": 472
        },
        "id": "Xu6EVRa2AFtF",
        "outputId": "c63f1bb8-cff6-4a23-8e6d-a289944ccedb"
      },
      "execution_count": 63,
      "outputs": [
        {
          "output_type": "display_data",
          "data": {
            "text/plain": [
              "<Figure size 640x480 with 2 Axes>"
            ],
            "image/png": "[encoded data removed]"
          },
          "metadata": {}
        }
      ]
    },
    {
      "cell_type": "markdown",
      "source": [
        "As we can see the addition of the cloudcover_low variable is a great asset to this model. Our accuracy has increased by 2% but our false negative rate has decreased from 58.18% to 35.41%, a remarkable improvement!"
      ],
      "metadata": {
        "id": "aVWl8Z1NAIsg"
      }
    },
    {
      "cell_type": "code",
      "source": [],
      "metadata": {
        "id": "s2UI67T2AHM-"
      },
      "execution_count": null,
      "outputs": []
    }
  ]
}